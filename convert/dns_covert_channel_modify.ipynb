{
 "cells": [
  {
   "cell_type": "code",
   "execution_count": null,
   "metadata": {},
   "outputs": [],
   "source": [
    "import pandas as pd\n",
    "import os\n",
    "import json\n",
    "import random\n",
    "from datetime import timedelta, datetime\n",
    "import pytz \n",
    "from env import ori_path, mod_path, ntfy_nofi\n",
    "pd.options.mode.chained_assignment = None\n",
    "pd.set_option('display.max_columns',None)"
   ]
  },
  {
   "cell_type": "code",
   "execution_count": null,
   "metadata": {},
   "outputs": [],
   "source": [
    "# read csv and set their col names\n",
    "colum_names = [\"time\", \"source\", \"srcAddr\", \"srcPort\", \"dstAddr\", \"dstPort\", \"proto\", \"sessionEndTime\", \"query\", \"answer\", \"transId\", \"rtt\", \"qclass\", \"qtype\", \"rcode\", \"aaFlag\", \"tcFlag\", \"rdFlag\", \"raFlag\", \"ttl\"]\n",
    "dns_df = pd.read_csv(ori_path + \"custom_review/input_dns.csv\", sep=\"\\t\", header=None, dtype=str)\n",
    "dns_df.columns=colum_names"
   ]
  },
  {
   "cell_type": "code",
   "execution_count": null,
   "metadata": {},
   "outputs": [],
   "source": [
    "dns_dfs_gen = pd.concat([dns_df] * 20, ignore_index=True)"
   ]
  },
  {
   "cell_type": "code",
   "execution_count": null,
   "metadata": {},
   "outputs": [],
   "source": [
    "# test epoch to timestamp\n",
    "# epoch_time = 1688147468.575549608\n",
    "# date_time = datetime.fromtimestamp(int(epoch_time))\n",
    "# fractional_seconds = epoch_time - int(epoch_time)\n",
    "# formatted_fractional_seconds = format(fractional_seconds, \".9f\")[1:]\n",
    "# formatted_datetime = f\"{date_time}{formatted_fractional_seconds}\"\n",
    "# formatted_datetime"
   ]
  },
  {
   "cell_type": "code",
   "execution_count": null,
   "metadata": {},
   "outputs": [],
   "source": [
    "# random yyyy mm dd hh mm ss based on start end\n",
    "def random_date(start, end):\n",
    "    return start + timedelta(\n",
    "        seconds=random.randint(0, int((end - start).total_seconds())))"
   ]
  },
  {
   "cell_type": "code",
   "execution_count": null,
   "metadata": {},
   "outputs": [],
   "source": [
    "# formatted_epoch_time_with_nanoseconds to epoch\n",
    "# formatted_dt to datetime\n",
    "def random_datetime_with_nanoseconds(start, end):\n",
    "    random_dt = random_date(start, end)\n",
    "    random_dt_alpha = random_dt + timedelta(seconds=5)\n",
    "    # Generate a random nanoseconds value (0 to 999,999,999)\n",
    "\n",
    "    nanoseconds = random.randint(0, 999_999_999)\n",
    "    # Combine the datetime and the nanoseconds\n",
    "    formatted_dt = f\"{random_dt.isoformat()}.{str(nanoseconds).zfill(9)}\"\n",
    "    epoch_time = random_dt.timestamp()\n",
    "    epoch_time_alpha = random_dt_alpha.timestamp()\n",
    "    # epoch_time_with_nanoseconds = epoch_time + (nanoseconds * 1e-9)\n",
    "    \n",
    "    # epoch timestamp full nanoseconds\n",
    "    seconds_part = str(int(epoch_time))\n",
    "    seconds_part_alpha = str(int(epoch_time_alpha))\n",
    "    nanoseconds_part = format(nanoseconds, \"09d\")  # Format nanoseconds as a zero-padded string with 9 digits\n",
    "    formatted_epoch_time_with_nanoseconds = f\"{seconds_part}.{nanoseconds_part}\"\n",
    "    formatted_epoch_time_with_nanoseconds_alpha = f\"{seconds_part_alpha}.{nanoseconds_part}\"\n",
    "\n",
    "    return formatted_dt, formatted_epoch_time_with_nanoseconds, formatted_epoch_time_with_nanoseconds_alpha"
   ]
  },
  {
   "cell_type": "code",
   "execution_count": null,
   "metadata": {},
   "outputs": [],
   "source": [
    "start_date = datetime(2023, 7, 1)\n",
    "end_date = datetime(2023, 8, 1)"
   ]
  },
  {
   "cell_type": "code",
   "execution_count": null,
   "metadata": {},
   "outputs": [],
   "source": [
    "time_arr_dns = []\n",
    "time_arr_dns_alpha = []\n",
    "time_arr_datetime_dns = []\n",
    "for i in range(0, 200):\n",
    "    formatted_dt, epoch_time_with_nanoseconds, epoch_time_with_nanoseconds_alpha = random_datetime_with_nanoseconds(start_date, end_date)\n",
    "    time_arr_dns.append(epoch_time_with_nanoseconds)\n",
    "    time_arr_dns_alpha.append(epoch_time_with_nanoseconds_alpha)\n",
    "    time_arr_datetime_dns.append(formatted_dt)\n",
    "time_arr_dns.sort()\n",
    "time_arr_dns_alpha.sort()\n",
    "time_arr_datetime_dns.sort()"
   ]
  },
  {
   "cell_type": "code",
   "execution_count": null,
   "metadata": {},
   "outputs": [],
   "source": [
    "time_df_dns = pd.DataFrame(time_arr_dns, columns=['time'])\n",
    "time_df_dns['sessionEndTime'] = time_arr_dns_alpha\n",
    "time_df_dns['timestamp'] = time_arr_datetime_dns\n",
    "# time_df_dns_temp = pd.DataFrame()\n",
    "# time_df_dns_temp['date'] = pd.to_datetime(time_df_dns['time']).dt.date\n",
    "# time_df_dns_count = time_df_dns_temp.groupby('date').size().reset_index(name='time count')"
   ]
  },
  {
   "cell_type": "code",
   "execution_count": null,
   "metadata": {},
   "outputs": [],
   "source": [
    "dns_dfs_gen.time = time_df_dns.time\n",
    "dns_dfs_gen.sessionEndTime = time_df_dns.sessionEndTime\n",
    "dns_dfs_gen.srcAddr = \"41.179.253.229\""
   ]
  },
  {
   "cell_type": "code",
   "execution_count": null,
   "metadata": {},
   "outputs": [],
   "source": [
    "dns_dfs_gen.to_csv(mod_path + \"custom_review/input_dns_joe.csv\", index=False, sep=\"\\t\", header=None)"
   ]
  },
  {
   "cell_type": "code",
   "execution_count": null,
   "metadata": {},
   "outputs": [],
   "source": [
    "time_df_dns_temp = pd.DataFrame()\n",
    "time_df_dns_temp['date'] = pd.to_datetime(time_df_dns['timestamp']).dt.date\n",
    "time_df_dns_count = time_df_dns_temp.groupby('date').size().reset_index(name='dns_count')"
   ]
  },
  {
   "cell_type": "code",
   "execution_count": null,
   "metadata": {},
   "outputs": [],
   "source": [
    "time_df_dns_count"
   ]
  }
 ],
 "metadata": {
  "kernelspec": {
   "display_name": "Python 3",
   "language": "python",
   "name": "python3"
  },
  "language_info": {
   "codemirror_mode": {
    "name": "ipython",
    "version": 3
   },
   "file_extension": ".py",
   "mimetype": "text/x-python",
   "name": "python",
   "nbconvert_exporter": "python",
   "pygments_lexer": "ipython3",
   "version": "3.11.5"
  },
  "orig_nbformat": 4
 },
 "nbformat": 4,
 "nbformat_minor": 2
}
