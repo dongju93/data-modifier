{
 "cells": [
  {
   "cell_type": "code",
   "execution_count": null,
   "metadata": {},
   "outputs": [],
   "source": [
    "import sys\n",
    "import pandas as pd\n",
    "import os\n",
    "from env import ori_path, mod_path, ntfy_nofi\n",
    "import json\n",
    "\n",
    "pd.options.mode.chained_assignment = None\n",
    "pd.set_option('display.max_columns',None)\n",
    "# pd.set_option('display.max_rows',None)"
   ]
  },
  {
   "cell_type": "code",
   "execution_count": null,
   "metadata": {},
   "outputs": [],
   "source": [
    "# HttpThreat TS 2023-06-05T05:31:57.691443314+00:00\n",
    "# DnsCovertChannel TS 2023-06-05T05:28:57.594731010+00:00\n",
    "process_df = pd.read_csv(ori_path + \"event1_logs.csv\", sep=\"\\t\", header=0, dtype=str)\n",
    "net_df = pd.read_csv(ori_path + \"event3_logs.csv\", sep=\"\\t\", header=0, dtype=str)\n",
    "dns_df = pd.read_csv(ori_path + \"event22_logs.csv\", sep=\"\\t\", header=0, dtype=str)\n",
    "image_df = pd.read_csv(ori_path + \"event7_logs.csv\", sep=\"\\t\", header=0, dtype=str)\n",
    "filecreate_df = pd.read_csv(ori_path + \"event11_logs.csv\", sep=\"\\t\", header=0, dtype=str)\n",
    "filedelete_df = pd.read_csv(ori_path + \"event23_logs.csv\", sep=\"\\t\", header=0, dtype=str)\n",
    "reg_df = pd.read_csv(ori_path + \"event13_logs.csv\", sep=\"\\t\", header=0, dtype=str)\n"
   ]
  },
  {
   "cell_type": "code",
   "execution_count": null,
   "metadata": {},
   "outputs": [],
   "source": [
    "# net_df\n",
    "mask1 = (\n",
    "    (net_df.user == \"DESKTOP-0FS3LG3\\spdlq\")\n",
    "    & (net_df.source_hostname == \"DESKTOP-0FS3LG3\")\n",
    "    & (net_df.destination_port == \"80\")\n",
    "    & (net_df.destination_hostname != \"-\")\n",
    "    & (net_df.utc_time == \"2023-08-08 01:53:39.236\")\n",
    ")\n",
    "net_fil_df = net_df.loc[mask1, :]"
   ]
  },
  {
   "cell_type": "code",
   "execution_count": null,
   "metadata": {},
   "outputs": [],
   "source": [
    "# net_fil_df_dns\n",
    "mask2 = (\n",
    "    (net_df.user == \"DESKTOP-0FS3LG3\\spdlq\")\n",
    "    & (net_df.source_hostname == \"DESKTOP-0FS3LG3\")\n",
    "    & (net_df.destination_port == \"53\")\n",
    "    & (net_df.destination_hostname != \"-\")\n",
    "    # contains\n",
    "    # & (net_df['destination_hostname'].str.contains(\"soft\"))\n",
    "    & (net_df.utc_time == \"2023-08-08 08:20:57.189\")\n",
    ")\n",
    "net_fil_df_dns = net_df.loc[mask2, :]"
   ]
  },
  {
   "cell_type": "code",
   "execution_count": null,
   "metadata": {},
   "outputs": [],
   "source": [
    "# net_fil_df_dns\n",
    "# check dns hostname unique value\n",
    "# pd.unique(net_fil_df['destination_hostname'])\n",
    "# net_df['destination_hostname'].unique()\n",
    "# process_df.head()"
   ]
  },
  {
   "cell_type": "code",
   "execution_count": null,
   "metadata": {},
   "outputs": [],
   "source": [
    "# dns_df\n",
    "mask3 = (\n",
    "    (dns_df.user == \"DESKTOP-0FS3LG3\\spdlq\")\n",
    "    & (dns_df.query_status == \"0\")\n",
    "    & (dns_df.utc_time == \"2023-08-04 01:31:09.906\")\n",
    ")\n",
    "dns_fil_df = dns_df.loc[mask3, :]"
   ]
  },
  {
   "cell_type": "code",
   "execution_count": null,
   "metadata": {},
   "outputs": [],
   "source": [
    "# process_df\n",
    "process_fil_df = process_df.iloc[[0, 7]]"
   ]
  },
  {
   "cell_type": "code",
   "execution_count": null,
   "metadata": {},
   "outputs": [],
   "source": [
    "# image_df\n",
    "# find estsoft exe 40287\n",
    "# mask4 = (\n",
    "#     (image_df.user == \"DESKTOP-0FS3LG3\\spdlq\")\n",
    "#     & (image_df['description'].str.contains(\"EST\"))\n",
    "#     & (image_df.utc_time == \"2023-07-19 08:33:53.572\")\n",
    "# )\n",
    "# image_fil_df = image_df.loc[mask4, :]\n",
    "# image_fil_df.head()\n",
    "# find just normal exe 4519\n",
    "# mask4 = (\n",
    "#     (image_df.user == \"DESKTOP-0FS3LG3\\spdlq\")\n",
    "#     & (image_df['original_file_name'].str.contains(\".exe\"))\n",
    "#     # not contains\n",
    "#     & (~image_df['company'].str.contains(\"Microsoft\"))\n",
    "#     # & (image_df.utc_time == \"2023-07-19 08:33:53.572\")\n",
    "# )\n",
    "# image_fil_df = image_df.loc[mask4, :]\n",
    "image_fil_df = image_df.iloc[[40287, 4519]]\n",
    "# image_fil_df.head()"
   ]
  },
  {
   "cell_type": "code",
   "execution_count": null,
   "metadata": {},
   "outputs": [],
   "source": [
    "# filecreate_df\n",
    "mask4 = (\n",
    "    (filecreate_df.user == \"DESKTOP-0FS3LG3\\spdlq\")\n",
    "    & (filecreate_df['target_filename'].str.contains(\"ALPDF\"))\n",
    "    & (filecreate_df.utc_time == \"2023-08-07 09:24:07.906\")\n",
    ")\n",
    "filecreate_fil_df = filecreate_df.loc[mask4, :]"
   ]
  },
  {
   "cell_type": "code",
   "execution_count": null,
   "metadata": {},
   "outputs": [],
   "source": [
    "# filedelete_df\n",
    "mask5 = (\n",
    "    (filedelete_df.user == \"DESKTOP-0FS3LG3\\spdlq\")\n",
    "    # & (filedelete_df['target_filename'].str.contains(\"ALPDF\"))\n",
    "    & (filedelete_df.utc_time == \"2023-08-07 09:24:07.906\")\n",
    ")\n",
    "filedelete_fil_df = filedelete_df.loc[mask5, :]"
   ]
  },
  {
   "cell_type": "code",
   "execution_count": null,
   "metadata": {},
   "outputs": [],
   "source": [
    "# reg_df\n",
    "mask6 = (\n",
    "    (reg_df.user == \"DESKTOP-0FS3LG3\\spdlq\")\n",
    "     & (reg_df['target_object'].str.contains(\"SOFTWARE\"))\n",
    "     & (reg_df['image'].str.contains(\"Program Files\"))\n",
    "     & (~reg_df['image'].str.contains(\"Edge\"))\n",
    "     & (reg_df.utc_time == \"2023-07-28 02:55:30.178\")\n",
    "     \n",
    ")\n",
    "reg_fil_df = reg_df.loc[mask6, :]"
   ]
  },
  {
   "cell_type": "code",
   "execution_count": null,
   "metadata": {},
   "outputs": [],
   "source": [
    "# net_df\n",
    "net_fil_df.utc_time = \"2023-06-05 05:31:56.691\"\n",
    "net_fil_df.source_ip = \"129.204.40.54\"\n",
    "net_fil_df.destination_ip = \"218.144.35.150\"\n",
    "net_fil_df.source_port = \"14787\""
   ]
  },
  {
   "cell_type": "code",
   "execution_count": null,
   "metadata": {},
   "outputs": [],
   "source": [
    "# net_df_dns\n",
    "net_fil_df_dns.utc_time = \"2023-06-05 05:28:57.593\"\n",
    "net_fil_df_dns.source_ip = \"203.254.128.12\"\n",
    "net_fil_df_dns.destination_ip = \"205.251.195.185\"\n",
    "net_fil_df_dns.source_port = \"14787\"\n",
    "net_fil_df_dns.destination_hostname\t= \"ap-northeast-2.elb.amazonaws.com\"\n",
    "net_fil_df_dns.image = \"C:\\\\Program Files (x86)\\\\G2BRUN\\\\g2brun.exe\""
   ]
  },
  {
   "cell_type": "code",
   "execution_count": null,
   "metadata": {},
   "outputs": [],
   "source": [
    "# dns_df\n",
    "dns_fil_df.utc_time = \"2023-06-05 05:28:57.125\"\n",
    "dns_fil_df.process_guid = \"{145e89fa-894a-64d1-066a-000000000f00}\"\n",
    "dns_fil_df.process_id = \"11220\"\n",
    "dns_fil_df.query_name = \"elb-p-gld-dls-an2-75892243.ap-northeast-2.elb.amazonaws.com\"\n",
    "dns_fil_df.image = \"C:\\\\Program Files (x86)\\\\G2BRUN\\\\g2brun.exe\"\n"
   ]
  },
  {
   "cell_type": "code",
   "execution_count": null,
   "metadata": {},
   "outputs": [],
   "source": [
    "# process_df\n",
    "process_fil_df.loc[0, \"utc_time\"] = \"2023-06-05 05:31:53.691\"\n",
    "process_fil_df.loc[7, \"utc_time\"] = \"2023-06-05 05:28:55.332\"\n",
    "process_fil_df.loc[0, \"process_guid\"] = \"{145e89fa-a02a-64d1-ff6e-000000000f00}\"\n",
    "process_fil_df.loc[7, \"process_guid\"] = \"{145e89fa-894a-64d1-066a-000000000f00}\"\n",
    "process_fil_df.loc[0, \"process_id\"] = \"18572\"\n",
    "process_fil_df.loc[7, \"process_id\"] = \"11220\"\n",
    "process_fil_df.loc[0, \"image\"] = \"C:\\\\Program Files (x86)\\\\ESTsoft\\\\ALPDF\\\\ALPDF.exe\"\n",
    "process_fil_df.loc[7, \"image\"] = \"C:\\\\Program Files (x86)\\\\G2BRUN\\\\g2brun.exe\"\n",
    "process_fil_df.loc[0, \"file_version\"] = \"1.3.21\"\n",
    "process_fil_df.loc[7, \"file_version\"] = \"23.1\"\n",
    "process_fil_df.loc[0, \"description\"] = \"AL PDF\"\n",
    "process_fil_df.loc[7, \"description\"] = \"G2B RUN\"\n",
    "process_fil_df.loc[0, \"product\"] = \"AL PDF\"\n",
    "process_fil_df.loc[7, \"product\"] = \"G2B RUN\"\n",
    "process_fil_df.loc[0, \"company\"] = \"ESTsoft Corp.\"\n",
    "process_fil_df.loc[7, \"company\"] = \"서울지방조달청\"\n",
    "process_fil_df.loc[0, \"original_file_name\"] = \"ALPDF.exe\"\n",
    "process_fil_df.loc[7, \"original_file_name\"] = \"g2brun.exe\"\n",
    "process_fil_df.loc[0, \"command_line\"] = \"-\"\n",
    "process_fil_df.loc[7, \"command_line\"] = \"-\"\n",
    "process_fil_df.loc[0, \"current_directory\"] = \"C:\\\\Program Files (x86)\\\\ESTsoft\\\\ALPDF\"\n",
    "process_fil_df.loc[7, \"current_directory\"] = \"C:\\\\Program Files (x86)\\\\G2BRUN\""
   ]
  },
  {
   "cell_type": "code",
   "execution_count": null,
   "metadata": {},
   "outputs": [],
   "source": [
    "# image_df\n",
    "image_fil_df.loc[40287, \"utc_time\"] = \"2023-06-05 05:31:56.238\"\n",
    "image_fil_df.loc[4519, \"utc_time\"] = \"2023-06-05 05:28:56.132\"\n",
    "image_fil_df.loc[40287, \"process_id\"] = \"18572\"\n",
    "image_fil_df.loc[4519, \"process_id\"] = \"11220\"\n",
    "image_fil_df.loc[40287, \"image\"] = \"C:\\\\Program Files (x86)\\\\ESTsoft\\\\ALPDF\\\\ALPDF.exe\"\n",
    "image_fil_df.loc[4519, \"image\"] = \"C:\\\\Program Files (x86)\\\\G2BRUN\\\\g2brun.exe\"\n",
    "image_fil_df.loc[40287, \"image_loaded\"] = \"C:\\\\Program Files (x86)\\\\ESTsoft\\\\ALPDF\\\\ALPDF.exe\"\n",
    "image_fil_df.loc[4519, \"image_loaded\"] = \"C:\\\\Program Files (x86)\\\\G2BRUN\\\\g2brun.exe\"\n",
    "image_fil_df.loc[40287, \"file_version\"] = \"1.3.21\"\n",
    "image_fil_df.loc[4519, \"file_version\"] = \"23.1\"\n",
    "image_fil_df.loc[40287, \"description\"] = \"AL PDF\"\n",
    "image_fil_df.loc[4519, \"description\"] = \"G2B RUN\"\n",
    "image_fil_df.loc[40287, \"product\"] = \"AL PDF\"\n",
    "image_fil_df.loc[4519, \"product\"] = \"G2B RUN\"\n",
    "image_fil_df.loc[4519, \"company\"] = \"서울지방조달청\"\n",
    "image_fil_df.loc[40287, \"original_file_name\"] = \"ALPDF.exe\"\n",
    "image_fil_df.loc[4519, \"original_file_name\"] = \"g2brun.exe\"\n",
    "image_fil_df.loc[4519, \"signature\"] = \"서울지방조달청\""
   ]
  },
  {
   "cell_type": "code",
   "execution_count": null,
   "metadata": {},
   "outputs": [],
   "source": [
    "# filecreate_df\n",
    "filecreate_fil_df.utc_time = \"2023-06-05 05:31:58.691\"\n",
    "filecreate_fil_df.process_guid = \"{145e89fa-a02a-64d1-ff6e-000000000f00}\"\n",
    "filecreate_fil_df.process_id = \"18572\"\n",
    "filecreate_fil_df.creation_utc_time = \"2023-06-05 05:31:53.689\"\n",
    "filecreate_fil_df.target_filename = \"C:\\\\Temp\\\\2020\\\\HncDownload\\\\PrepareTemp\\\\HncUpdate.cab\""
   ]
  },
  {
   "cell_type": "code",
   "execution_count": null,
   "metadata": {},
   "outputs": [],
   "source": [
    "# filedelete_df\n",
    "filedelete_fil_df.utc_time = \"2023-06-05 05:32:01.135\"\n",
    "filedelete_fil_df.process_guid = \"{145e89fa-a02a-64d1-ff6e-000000000f00}\"\n",
    "filedelete_fil_df.process_id = \"18572\"\n",
    "filedelete_fil_df.target_Filename = \"C:\\\\Windows\\\\Boot\\\\BootDebuggerFiles.ini\""
   ]
  },
  {
   "cell_type": "code",
   "execution_count": null,
   "metadata": {},
   "outputs": [],
   "source": [
    "# reg_df\n",
    "reg_fil_df.utc_time = \"2023-06-05 05:29:00.243\"\n",
    "reg_fil_df.process_guid = \"{145e89fa-894a-64d1-066a-000000000f00}\"\n",
    "reg_fil_df.process_id = \"11220\"\n",
    "reg_fil_df.image = \"C:\\\\Program Files (x86)\\\\G2BRUN\\\\g2brun.exe\""
   ]
  },
  {
   "cell_type": "code",
   "execution_count": null,
   "metadata": {},
   "outputs": [],
   "source": [
    "# net_df concat(merge)\n",
    "netconn_eve = pd.concat([net_fil_df, net_fil_df_dns], axis=0)"
   ]
  },
  {
   "cell_type": "code",
   "execution_count": null,
   "metadata": {},
   "outputs": [],
   "source": [
    "# net_df\n",
    "netconn_eve.to_csv(mod_path + \"networkConnectEvents.csv\", index=False, sep=\"\\t\")\n",
    "netconn_eve.to_json(mod_path + \"(Human-readable)networkConnectEvents.json\", orient='records', date_format='iso')\n",
    "# net_df.loc[:, 'source_hostname']"
   ]
  },
  {
   "cell_type": "code",
   "execution_count": null,
   "metadata": {},
   "outputs": [],
   "source": [
    "# dns_df\n",
    "dns_fil_df.to_csv(mod_path + \"dnsQueryEvents.csv\", index=False, sep=\"\\t\")\n",
    "dns_fil_df.to_json(mod_path + \"(Human-readable)dnsQueryEvents.json\", orient='records', date_format='iso')\n"
   ]
  },
  {
   "cell_type": "code",
   "execution_count": null,
   "metadata": {},
   "outputs": [],
   "source": [
    "# process_df\n",
    "process_fil_df.to_csv(mod_path + \"processCreateEvents.csv\", index=False, sep=\"\\t\")\n",
    "process_fil_dict = process_fil_df.to_dict(orient='records')\n",
    "process_fil_path = mod_path+\"(Human-readable)processCreateEvents.json\"\n",
    "with open(process_fil_path, 'w', encoding='utf-8') as file:\n",
    "    json.dump(process_fil_dict, file, ensure_ascii=False)"
   ]
  },
  {
   "cell_type": "code",
   "execution_count": null,
   "metadata": {},
   "outputs": [],
   "source": [
    "# image_df\n",
    "image_fil_df.to_csv(mod_path + \"imageLoadEvents.csv\", index=False, sep=\"\\t\")\n",
    "image_fil_dict = image_fil_df.to_dict(orient='records')\n",
    "image_fil_path = mod_path+\"(Human-readable)imageLoadEvents.json\"\n",
    "with open(image_fil_path, 'w', encoding='utf-8') as file:\n",
    "    json.dump(image_fil_dict, file, ensure_ascii=False)"
   ]
  },
  {
   "cell_type": "code",
   "execution_count": null,
   "metadata": {},
   "outputs": [],
   "source": [
    "# filecreate_df\n",
    "filecreate_fil_df.to_csv(mod_path + \"fileCreateEvents.csv\", index=False, sep=\"\\t\")\n",
    "filecreate_fil_df.to_json(mod_path + \"(Human-readable)fileCreateEvents.json\", orient='records', date_format='iso')"
   ]
  },
  {
   "cell_type": "code",
   "execution_count": null,
   "metadata": {},
   "outputs": [],
   "source": [
    "# filedelete_df\n",
    "filedelete_fil_df.to_csv(mod_path + \"fileDeleteEvents.csv\", index=False, sep=\"\\t\")\n",
    "filedelete_fil_df.to_json(mod_path + \"(Human-readable)fileDeleteEvents.json\", orient='records', date_format='iso')"
   ]
  },
  {
   "cell_type": "code",
   "execution_count": null,
   "metadata": {},
   "outputs": [],
   "source": [
    "# reg_df\n",
    "reg_fil_df.to_csv(mod_path + \"registryValueSetEvents.csv\", index=False, sep=\"\\t\")\n",
    "reg_fil_df.to_json(mod_path + \"(Human-readable)registryValueSetEvents.json\", orient='records', date_format='iso')"
   ]
  },
  {
   "cell_type": "code",
   "execution_count": null,
   "metadata": {},
   "outputs": [],
   "source": [
    "# os.system(ntfy_nofi)"
   ]
  },
  {
   "cell_type": "code",
   "execution_count": null,
   "metadata": {},
   "outputs": [],
   "source": []
  }
 ],
 "metadata": {
  "kernelspec": {
   "display_name": "Python 3",
   "language": "python",
   "name": "python3"
  },
  "language_info": {
   "codemirror_mode": {
    "name": "ipython",
    "version": 3
   },
   "file_extension": ".py",
   "mimetype": "text/x-python",
   "name": "python",
   "nbconvert_exporter": "python",
   "pygments_lexer": "ipython3",
   "version": "3.11.5"
  },
  "orig_nbformat": 4
 },
 "nbformat": 4,
 "nbformat_minor": 2
}
