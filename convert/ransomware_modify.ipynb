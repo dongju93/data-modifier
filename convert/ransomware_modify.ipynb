{
 "cells": [
  {
   "cell_type": "code",
   "execution_count": null,
   "metadata": {},
   "outputs": [],
   "source": [
    "import pandas as pd\n",
    "import os\n",
    "import json\n",
    "import random\n",
    "from datetime import timedelta, datetime\n",
    "import pytz \n",
    "from env import ori_path, mod_path, ntfy_nofi\n",
    "pd.options.mode.chained_assignment = None\n",
    "pd.set_option('display.max_columns',None)"
   ]
  },
  {
   "cell_type": "code",
   "execution_count": null,
   "metadata": {},
   "outputs": [],
   "source": [
    "# read csv and set their col names\n",
    "colum_names = [\"time\", \"source\", \"agent_name\", \"agent_id\", \"process_guid\", \"process_id\", \"image\", \"file_version\", \"description\", \"product\", \"company\", \"original_file_name\", \"command_line\", \"current_directory\", \"user\", \"logon_guid\", \"logon_id\", \"terminal_session_id\", \"integrity_level\", \"hashes\", \"parent_process_guid\", \"parent_process_id\", \"parent_image\", \"parent_command_line\", \"parent_user\"]\n",
    "rans_df = pd.read_csv(ori_path + \"custom_review/input_process_create.csv\", sep=\"\\t\", header=None, dtype=str)\n",
    "rans_df.columns=colum_names"
   ]
  },
  {
   "cell_type": "code",
   "execution_count": null,
   "metadata": {},
   "outputs": [],
   "source": [
    "rans_df_gen = pd.concat([rans_df] * 12, ignore_index=True)"
   ]
  },
  {
   "cell_type": "code",
   "execution_count": null,
   "metadata": {},
   "outputs": [],
   "source": [
    "# test epoch to timestamp\n",
    "# epoch_time = 1688147468.575549608\n",
    "# date_time = datetime.fromtimestamp(int(epoch_time))\n",
    "# fractional_seconds = epoch_time - int(epoch_time)\n",
    "# formatted_fractional_seconds = format(fractional_seconds, \".9f\")[1:]\n",
    "# formatted_datetime = f\"{date_time}{formatted_fractional_seconds}\"\n",
    "# formatted_datetime"
   ]
  },
  {
   "cell_type": "code",
   "execution_count": null,
   "metadata": {},
   "outputs": [],
   "source": [
    "# random yyyy mm dd hh mm ss based on start end\n",
    "def random_date(start, end):\n",
    "    return start + timedelta(\n",
    "        seconds=random.randint(0, int((end - start).total_seconds())))"
   ]
  },
  {
   "cell_type": "code",
   "execution_count": null,
   "metadata": {},
   "outputs": [],
   "source": [
    "# formatted_epoch_time_with_nanoseconds to epoch\n",
    "# formatted_dt to datetime\n",
    "def random_datetime_with_nanoseconds(start, end):\n",
    "    random_dt = random_date(start, end)\n",
    "    # random_dt_alpha = random_dt + timedelta(seconds=5)\n",
    "    # Generate a random nanoseconds value (0 to 999,999,999)\n",
    "\n",
    "    nanoseconds = random.randint(0, 999_999_999)\n",
    "    # Combine the datetime and the nanoseconds\n",
    "    formatted_dt = f\"{random_dt.isoformat()}.{str(nanoseconds).zfill(9)}\"\n",
    "    epoch_time = random_dt.timestamp()\n",
    "    # epoch_time_alpha = random_dt_alpha.timestamp()\n",
    "    # epoch_time_with_nanoseconds = epoch_time + (nanoseconds * 1e-9)\n",
    "    \n",
    "    # epoch timestamp full nanoseconds\n",
    "    seconds_part = str(int(epoch_time))\n",
    "    # seconds_part_alpha = str(int(epoch_time_alpha))\n",
    "    nanoseconds_part = format(nanoseconds, \"09d\")  # Format nanoseconds as a zero-padded string with 9 digits\n",
    "    formatted_epoch_time_with_nanoseconds = f\"{seconds_part}.{nanoseconds_part}\"\n",
    "    # formatted_epoch_time_with_nanoseconds_alpha = f\"{seconds_part_alpha}.{nanoseconds_part}\"\n",
    "\n",
    "    return formatted_dt, formatted_epoch_time_with_nanoseconds"
   ]
  },
  {
   "cell_type": "code",
   "execution_count": null,
   "metadata": {},
   "outputs": [],
   "source": [
    "start_date = datetime(2023, 7, 1)\n",
    "end_date = datetime(2023, 8, 1)"
   ]
  },
  {
   "cell_type": "code",
   "execution_count": null,
   "metadata": {},
   "outputs": [],
   "source": [
    "time_arr_proc = []\n",
    "# time_arr_proc_alpha = []\n",
    "time_arr_datetime_proc = []\n",
    "for i in range(0, 180):\n",
    "    formatted_dt, epoch_time_with_nanoseconds = random_datetime_with_nanoseconds(start_date, end_date)\n",
    "    time_arr_proc.append(epoch_time_with_nanoseconds)\n",
    "    # time_arr_proc_alpha.append(epoch_time_with_nanoseconds_alpha)\n",
    "    time_arr_datetime_proc.append(formatted_dt)\n",
    "time_arr_proc.sort()\n",
    "# time_arr_proc_alpha.sort()\n",
    "time_arr_datetime_proc.sort()"
   ]
  },
  {
   "cell_type": "code",
   "execution_count": null,
   "metadata": {},
   "outputs": [],
   "source": [
    "time_df_proc = pd.DataFrame(time_arr_proc, columns=['time'])\n",
    "# time_df_proc['sessionEndTime'] = time_arr_proc_alpha\n",
    "time_df_proc['timestamp'] = time_arr_datetime_proc\n",
    "# time_df_proc_temp = pd.DataFrame()\n",
    "# time_df_proc_temp['date'] = pd.to_datetime(time_df_proc['time']).dt.date\n",
    "# time_df_proc_count = time_df_proc_temp.groupby('date').size().reset_index(name='time count')"
   ]
  },
  {
   "cell_type": "code",
   "execution_count": null,
   "metadata": {},
   "outputs": [],
   "source": [
    "rans_df_gen.time = time_df_proc.time\n",
    "# proc_dfs_gen.sessionEndTime = time_df_proc.sessionEndTime\n",
    "# proc_dfs_gen.srcAddr = \"41.179.253.229\""
   ]
  },
  {
   "cell_type": "code",
   "execution_count": null,
   "metadata": {},
   "outputs": [],
   "source": [
    "rans_df_gen.to_csv(mod_path + \"custom_review/input_process_create_joe.csv\", index=False, sep=\"\\t\", header=None)"
   ]
  },
  {
   "cell_type": "code",
   "execution_count": null,
   "metadata": {},
   "outputs": [],
   "source": [
    "time_df_proc_temp = pd.DataFrame()\n",
    "time_df_proc_temp['date'] = pd.to_datetime(time_df_proc['timestamp']).dt.date\n",
    "time_df_proc_count = time_df_proc_temp.groupby('date').size().reset_index(name='proc_count')"
   ]
  },
  {
   "cell_type": "code",
   "execution_count": null,
   "metadata": {},
   "outputs": [],
   "source": [
    "time_df_proc_count"
   ]
  }
 ],
 "metadata": {
  "kernelspec": {
   "display_name": "Python 3",
   "language": "python",
   "name": "python3"
  },
  "language_info": {
   "codemirror_mode": {
    "name": "ipython",
    "version": 3
   },
   "file_extension": ".py",
   "mimetype": "text/x-python",
   "name": "python",
   "nbconvert_exporter": "python",
   "pygments_lexer": "ipython3",
   "version": "3.11.5"
  },
  "orig_nbformat": 4
 },
 "nbformat": 4,
 "nbformat_minor": 2
}
