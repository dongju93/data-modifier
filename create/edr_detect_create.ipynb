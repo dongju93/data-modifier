{
 "cells": [
  {
   "cell_type": "code",
   "execution_count": null,
   "metadata": {},
   "outputs": [],
   "source": [
    "import pandas as pd\n",
    "import os\n",
    "import random\n",
    "from datetime import datetime, timedelta\n",
    "from env import mod_path, ntfy_nofi"
   ]
  },
  {
   "cell_type": "code",
   "execution_count": null,
   "metadata": {},
   "outputs": [],
   "source": [
    "df_rans = pd.DataFrame()\n",
    "df_rotk = pd.DataFrame()\n",
    "df_botk = pd.DataFrame()"
   ]
  },
  {
   "cell_type": "code",
   "execution_count": null,
   "metadata": {},
   "outputs": [],
   "source": [
    "column_names = [\n",
    "    \"time\",\n",
    "    \"source\",\n",
    "    \"attackName\",\n",
    "    \"attackKind\",\n",
    "    \"level\",\n",
    "    \"agentName\",\n",
    "    \"agentId\",\n",
    "    \"processGuid\",\n",
    "    \"processId\",\n",
    "    \"image\",\n",
    "    \"user\",\n",
    "    # nullable\n",
    "    \"triage\",\n",
    "    # 기타 필드들 통합 내용. 공통 필드이외의 내용을 이 필드에 통합해서 리턴함. 필드를 구분해서 보려면 상세 조회 필요\n",
    "    \"content\",\n",
    "]\n"
   ]
  },
  {
   "cell_type": "code",
   "execution_count": null,
   "metadata": {},
   "outputs": [],
   "source": [
    "data_rans = [\n",
    "    [\n",
    "        \"2023-07-01T00:50:45.187390204+00:00\",\n",
    "        \"collect\",\n",
    "        \"Alcatraz\",\n",
    "        \"Ransomware\",\n",
    "        4,\n",
    "        \"DESKTOP-0FS3LG3\",\n",
    "        \"f98ce9dc-4df6-445a-890d-c7a5368c230d\",\n",
    "        \"{145e89fa-6e99-64b7-261c-000000000800}\",\n",
    "        \"19924\",\n",
    "        \"C:\\\\Users\\\\vboxuser\\\\Downloads\\\\53292899fec.exe\",\n",
    "        \"DESKTOP-0FS3LG3\\spdlq\",\n",
    "        \"null\",\n",
    "        \"-\",\n",
    "    ]\n",
    "]"
   ]
  },
  {
   "cell_type": "code",
   "execution_count": null,
   "metadata": {},
   "outputs": [],
   "source": [
    "data_rotk = [\n",
    "    [\n",
    "        \"2023-07-01T00:50:45.187390204+00:00\",\n",
    "        \"collect\",\n",
    "        \"R77\",\n",
    "        \"Rootkit\",\n",
    "        2,\n",
    "        \"DESKTOP-0FS3LG3\",\n",
    "        \"f98ce9dc-4df6-445a-890d-c7a5368c230d\",\n",
    "        \"{145e89fa-6e99-64b7-261c-000000000800}\",\n",
    "        \"34721\",\n",
    "        \"C:\\\\Users\\\\vboxuser\\\\Downloads\\\\ilovepdf_pages-to-jpg\\\\pdf_sample.exe\",\n",
    "        \"DESKTOP-0FS3LG3\\spdlq\",\n",
    "        \"null\",\n",
    "        \"-\",\n",
    "    ]\n",
    "]"
   ]
  },
  {
   "cell_type": "code",
   "execution_count": null,
   "metadata": {},
   "outputs": [],
   "source": [
    "data_botk = [\n",
    "    [\n",
    "        \"2023-07-01T00:50:45.187390204+00:00\",\n",
    "        \"collect\",\n",
    "        \"ESPecter\",\n",
    "        \"Bootkit\",\n",
    "        3,\n",
    "        \"DESKTOP-0FS3LG3\",\n",
    "        \"f98ce9dc-4df6-445a-890d-c7a5368c230d\",\n",
    "        \"{145e89fa-6e99-64b7-261c-000000000800}\",\n",
    "        \"27605\",\n",
    "        \"C:\\\\Program Files\\\\NVIDIA Corporation\\\\NvContainer\\\\bootloader.exe\",\n",
    "        \"DESKTOP-0FS3LG3\\spdlq\",\n",
    "        \"null\",\n",
    "        \"-\",\n",
    "    ]\n",
    "]"
   ]
  },
  {
   "cell_type": "code",
   "execution_count": null,
   "metadata": {},
   "outputs": [],
   "source": [
    "df_rans = pd.DataFrame(data=data_rans, columns=column_names)\n",
    "df_rotk = pd.DataFrame(data=data_rotk, columns=column_names)\n",
    "df_botk = pd.DataFrame(data=data_botk, columns=column_names)"
   ]
  },
  {
   "cell_type": "code",
   "execution_count": null,
   "metadata": {},
   "outputs": [],
   "source": [
    "df_rans_gen = pd.concat([df_rans] * 200, ignore_index=True)\n",
    "df_rotk_gen = pd.concat([df_rotk] * 200, ignore_index=True)\n",
    "df_botk_gen = pd.concat([df_botk] * 200, ignore_index=True)"
   ]
  },
  {
   "cell_type": "code",
   "execution_count": null,
   "metadata": {},
   "outputs": [],
   "source": [
    "def random_date(start, end):\n",
    "    return start + timedelta(\n",
    "        seconds=random.randint(0, int((end - start).total_seconds())))"
   ]
  },
  {
   "cell_type": "code",
   "execution_count": null,
   "metadata": {},
   "outputs": [],
   "source": [
    "def random_datetime_with_nanoseconds(start, end):\n",
    "    random_dt = random_date(start, end)\n",
    "    # Generate a random nanoseconds value (0 to 999,999,999)\n",
    "    nanoseconds = random.randint(0, 999_999_999)\n",
    "    # Combine the datetime and the nanoseconds\n",
    "    formatted_dt = f\"{random_dt.isoformat()}.{str(nanoseconds).zfill(9)}+00:00\"\n",
    "    return formatted_dt"
   ]
  },
  {
   "cell_type": "code",
   "execution_count": null,
   "metadata": {},
   "outputs": [],
   "source": [
    "start_date = datetime(2023, 7, 1)\n",
    "end_date = datetime(2023, 7, 31)"
   ]
  },
  {
   "cell_type": "code",
   "execution_count": null,
   "metadata": {},
   "outputs": [],
   "source": [
    "rans_arr = []\n",
    "for i in range(0, 200):\n",
    "    formatted_datetime_ns = random_datetime_with_nanoseconds(start_date, end_date)\n",
    "    rans_arr.append(formatted_datetime_ns)\n",
    "rans_arr.sort()"
   ]
  },
  {
   "cell_type": "code",
   "execution_count": null,
   "metadata": {},
   "outputs": [],
   "source": [
    "rotk_arr = []\n",
    "for i in range(0, 200):\n",
    "    formatted_datetime_ns = random_datetime_with_nanoseconds(start_date, end_date)\n",
    "    rotk_arr.append(formatted_datetime_ns)\n",
    "rotk_arr.sort()"
   ]
  },
  {
   "cell_type": "code",
   "execution_count": null,
   "metadata": {},
   "outputs": [],
   "source": [
    "botk_arr = []\n",
    "for i in range(0, 200):\n",
    "    formatted_datetime_ns = random_datetime_with_nanoseconds(start_date, end_date)\n",
    "    botk_arr.append(formatted_datetime_ns)\n",
    "botk_arr.sort()"
   ]
  },
  {
   "cell_type": "code",
   "execution_count": null,
   "metadata": {},
   "outputs": [],
   "source": [
    "time_df_rans = pd.DataFrame(rans_arr, columns=['time'])\n",
    "time_df_rotk = pd.DataFrame(rotk_arr, columns=['time'])\n",
    "time_df_botk = pd.DataFrame(botk_arr, columns=['time'])"
   ]
  },
  {
   "cell_type": "code",
   "execution_count": null,
   "metadata": {},
   "outputs": [],
   "source": [
    "time_df_rans_temp = pd.DataFrame()\n",
    "time_df_rans_temp['date'] = pd.to_datetime(time_df_rans['time']).dt.date\n",
    "time_df_rans_count = time_df_rans_temp.groupby('date').size().reset_index(name='rans count')"
   ]
  },
  {
   "cell_type": "code",
   "execution_count": null,
   "metadata": {},
   "outputs": [],
   "source": [
    "time_df_rotk_temp = pd.DataFrame()\n",
    "time_df_rotk_temp['date'] = pd.to_datetime(time_df_rotk['time']).dt.date\n",
    "time_df_rotk_count = time_df_rotk_temp.groupby('date').size().reset_index(name='rotk count')"
   ]
  },
  {
   "cell_type": "code",
   "execution_count": null,
   "metadata": {},
   "outputs": [],
   "source": [
    "time_df_botk_temp = pd.DataFrame()\n",
    "time_df_botk_temp['date'] = pd.to_datetime(time_df_botk['time']).dt.date\n",
    "time_df_botk_count = time_df_botk_temp.groupby('date').size().reset_index(name='botk count')"
   ]
  },
  {
   "cell_type": "code",
   "execution_count": null,
   "metadata": {},
   "outputs": [],
   "source": [
    "merged_count = pd.merge(time_df_rans_count, time_df_rotk_count, on='date').merge(time_df_botk_count, on='date')\n",
    "merged_count['per day count'] = merged_count['rans count'] + merged_count['rotk count'] + merged_count['botk count']\n",
    "merged_count"
   ]
  },
  {
   "cell_type": "code",
   "execution_count": null,
   "metadata": {},
   "outputs": [],
   "source": [
    "df_rans_gen.time = time_df_rans\n",
    "df_rotk_gen.time = time_df_rotk\n",
    "df_botk_gen.time = time_df_botk"
   ]
  },
  {
   "cell_type": "code",
   "execution_count": null,
   "metadata": {},
   "outputs": [],
   "source": [
    "# output of csv\n",
    "df_rans_gen.to_csv(mod_path + \"detect/ransonware_alcatraz.csv\", index=False, sep=\"\\t\")\n",
    "df_rotk_gen.to_csv(mod_path + \"detect/rootkit_r77.csv\", index=False, sep=\"\\t\")\n",
    "df_botk_gen.to_csv(mod_path + \"detect/bootkit_especter.csv\", index=False, sep=\"\\t\")"
   ]
  },
  {
   "cell_type": "code",
   "execution_count": null,
   "metadata": {},
   "outputs": [],
   "source": [
    "# output of json\n",
    "df_rans_gen.to_json(mod_path + \"detect/ransonware_alcatraz.json\", orient='records', date_format='iso')\n",
    "df_rotk_gen.to_json(mod_path + \"detect/rootkit_r77.json\", orient='records', date_format='iso')\n",
    "df_botk_gen.to_json(mod_path + \"detect/bootkit_especter.json\", orient='records', date_format='iso')\n"
   ]
  }
 ],
 "metadata": {
  "kernelspec": {
   "display_name": "Python 3",
   "language": "python",
   "name": "python3"
  },
  "language_info": {
   "codemirror_mode": {
    "name": "ipython",
    "version": 3
   },
   "file_extension": ".py",
   "mimetype": "text/x-python",
   "name": "python",
   "nbconvert_exporter": "python",
   "pygments_lexer": "ipython3",
   "version": "3.11.5"
  },
  "orig_nbformat": 4
 },
 "nbformat": 4,
 "nbformat_minor": 2
}
