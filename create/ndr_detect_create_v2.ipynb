{
 "cells": [
  {
   "cell_type": "code",
   "execution_count": null,
   "metadata": {},
   "outputs": [],
   "source": [
    "import pandas as pd\n",
    "import os\n",
    "import json\n",
    "import random\n",
    "from datetime import datetime, timedelta\n",
    "from env import ori_path, mod_path, ntfy_nofi\n",
    "pd.options.mode.chained_assignment = None\n",
    "pd.set_option('display.max_columns',None)"
   ]
  },
  {
   "cell_type": "code",
   "execution_count": null,
   "metadata": {},
   "outputs": [],
   "source": [
    "httpThr = pd.read_json(ori_path + \"detect/httpthreat.json\", precise_float=True, convert_dates=False, dtype=str)\n",
    "httpThr.replace({\"None\": \"null\"}, inplace=True)\n",
    "\n",
    "dnsCov = pd.read_json(ori_path + \"detect/dnscorvertchannel.json\", precise_float=True, convert_dates=False, dtype=str)\n",
    "dnsCov.replace({\"None\": \"null\"}, inplace=True)"
   ]
  },
  {
   "cell_type": "code",
   "execution_count": null,
   "metadata": {},
   "outputs": [],
   "source": [
    "httpThr_gen = pd.concat([httpThr] * 300, ignore_index=True)"
   ]
  },
  {
   "cell_type": "code",
   "execution_count": null,
   "metadata": {},
   "outputs": [],
   "source": [
    "dnsCov_gen = pd.concat([dnsCov] * 300, ignore_index=True)"
   ]
  },
  {
   "cell_type": "code",
   "execution_count": null,
   "metadata": {},
   "outputs": [],
   "source": [
    "httpThr_gen.srcAddr = \"41.179.253.229\"\n",
    "dnsCov_gen.srcAddr = \"41.179.253.229\""
   ]
  },
  {
   "cell_type": "code",
   "execution_count": null,
   "metadata": {},
   "outputs": [],
   "source": [
    "def random_date(start, end):\n",
    "    return start + timedelta(\n",
    "        seconds=random.randint(0, int((end - start).total_seconds())))"
   ]
  },
  {
   "cell_type": "code",
   "execution_count": null,
   "metadata": {},
   "outputs": [],
   "source": [
    "def random_datetime_with_nanoseconds(start, end):\n",
    "    random_dt = random_date(start, end)\n",
    "    # Generate a random nanoseconds value (0 to 999,999,999)\n",
    "    nanoseconds = random.randint(0, 999_999_999)\n",
    "    # Combine the datetime and the nanoseconds\n",
    "    formatted_dt = f\"{random_dt.isoformat()}.{str(nanoseconds).zfill(9)}+00:00\"\n",
    "    return formatted_dt"
   ]
  },
  {
   "cell_type": "code",
   "execution_count": null,
   "metadata": {},
   "outputs": [],
   "source": [
    "start_date = datetime(2023, 7, 1)\n",
    "end_date = datetime(2023, 7, 30)"
   ]
  },
  {
   "cell_type": "code",
   "execution_count": null,
   "metadata": {},
   "outputs": [],
   "source": [
    "time_arr_http = []\n",
    "for i in range(0, 300):\n",
    "    formatted_datetime_ns = random_datetime_with_nanoseconds(start_date, end_date)\n",
    "    time_arr_http.append(formatted_datetime_ns)\n",
    "time_arr_http.sort()"
   ]
  },
  {
   "cell_type": "code",
   "execution_count": null,
   "metadata": {},
   "outputs": [],
   "source": [
    "time_arr_dns = []\n",
    "for i in range(0, 300):\n",
    "    formatted_datetime_ns = random_datetime_with_nanoseconds(start_date, end_date)\n",
    "    time_arr_dns.append(formatted_datetime_ns)\n",
    "time_arr_dns.sort()"
   ]
  },
  {
   "cell_type": "code",
   "execution_count": null,
   "metadata": {},
   "outputs": [],
   "source": [
    "time_df_http = pd.DataFrame(time_arr_http, columns=['time'])\n",
    "time_df_dns = pd.DataFrame(time_arr_dns, columns=['time'])"
   ]
  },
  {
   "cell_type": "code",
   "execution_count": null,
   "metadata": {},
   "outputs": [],
   "source": [
    "time_df_count_temp_http = pd.DataFrame()\n",
    "time_df_count_temp_http['date'] = pd.to_datetime(time_df_http['time']).dt.date\n",
    "time_df_count_http = time_df_count_temp_http.groupby('date').size().reset_index(name='http count')"
   ]
  },
  {
   "cell_type": "code",
   "execution_count": null,
   "metadata": {},
   "outputs": [],
   "source": [
    "time_df_count_temp_dns = pd.DataFrame()\n",
    "time_df_count_temp_dns['date'] = pd.to_datetime(time_df_dns['time']).dt.date\n",
    "time_df_count_dns = time_df_count_temp_dns.groupby('date').size().reset_index(name='dns count')"
   ]
  },
  {
   "cell_type": "code",
   "execution_count": null,
   "metadata": {},
   "outputs": [],
   "source": [
    "merged_count = pd.merge(time_df_count_http, time_df_count_dns, on='date')\n",
    "merged_count['per day count'] = merged_count['http count'] + merged_count['dns count']\n",
    "merged_count"
   ]
  },
  {
   "cell_type": "code",
   "execution_count": null,
   "metadata": {},
   "outputs": [],
   "source": [
    "httpThr_gen.time = time_df_http\n",
    "dnsCov_gen.time = time_df_dns"
   ]
  },
  {
   "cell_type": "code",
   "execution_count": null,
   "metadata": {},
   "outputs": [],
   "source": [
    "httpThr_gen"
   ]
  },
  {
   "cell_type": "code",
   "execution_count": null,
   "metadata": {},
   "outputs": [],
   "source": [
    "dnsCov_gen"
   ]
  },
  {
   "cell_type": "code",
   "execution_count": null,
   "metadata": {},
   "outputs": [],
   "source": [
    "# output of csv\n",
    "httpThr_gen.to_csv(mod_path + \"detect/httpthreat.csv\", index=False, sep=\"\\t\")\n",
    "httpThr_gen.to_csv(mod_path + \"detect/dnscorvertchannel.csv\", index=False, sep=\"\\t\")"
   ]
  },
  {
   "cell_type": "code",
   "execution_count": null,
   "metadata": {},
   "outputs": [],
   "source": [
    "# output of json\n",
    "dnsCov_gen.to_json(mod_path + \"detect/httpthreat.json\", orient='records', date_format='iso')\n",
    "dnsCov_gen.to_json(mod_path + \"detect/dnscorvertchannel.json\", orient='records', date_format='iso')"
   ]
  }
 ],
 "metadata": {
  "kernelspec": {
   "display_name": "Python 3",
   "language": "python",
   "name": "python3"
  },
  "language_info": {
   "codemirror_mode": {
    "name": "ipython",
    "version": 3
   },
   "file_extension": ".py",
   "mimetype": "text/x-python",
   "name": "python",
   "nbconvert_exporter": "python",
   "pygments_lexer": "ipython3",
   "version": "3.11.5"
  },
  "orig_nbformat": 4
 },
 "nbformat": 4,
 "nbformat_minor": 2
}
