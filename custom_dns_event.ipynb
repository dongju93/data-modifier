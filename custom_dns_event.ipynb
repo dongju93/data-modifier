{
 "cells": [
  {
   "cell_type": "code",
   "execution_count": null,
   "metadata": {},
   "outputs": [],
   "source": [
    "import pandas as pd\n",
    "import os\n",
    "import json\n",
    "import random\n",
    "from datetime import timedelta, datetime\n",
    "import pytz \n",
    "from env import ori_path, mod_path, ntfy_nofi\n",
    "pd.options.mode.chained_assignment = None\n",
    "pd.set_option('display.max_columns',None)"
   ]
  },
  {
   "cell_type": "code",
   "execution_count": null,
   "metadata": {},
   "outputs": [],
   "source": [
    "colum_names = [\"time\", \"source\", \"srcAddr\", \"srcPort\", \"dstAddr\", \"dstPort\", \"proto\", \"sessionEndTime\", \"query\", \"answer\", \"transId\", \"rtt\", \"qclass\", \"qtype\", \"rcode\", \"aaFlag\", \"tcFlag\", \"rdFlag\", \"raFlag\", \"ttl\"]\n",
    "dns_df = pd.read_csv(ori_path + \"custom_review/input_dns.csv\", sep=\"\\t\", header=None, dtype=str)\n",
    "dns_df.columns=colum_names"
   ]
  },
  {
   "cell_type": "code",
   "execution_count": null,
   "metadata": {},
   "outputs": [],
   "source": [
    "dns_df_cut = dns_df[0:2]\n",
    "dns_df_cut"
   ]
  },
  {
   "cell_type": "code",
   "execution_count": null,
   "metadata": {},
   "outputs": [],
   "source": [
    "epoch_time = 1688159986.379794807\n",
    "date_time = datetime.fromtimestamp(int(epoch_time))\n",
    "fractional_seconds = epoch_time - int(epoch_time)\n",
    "formatted_fractional_seconds = format(fractional_seconds, \".9f\")[1:]\n",
    "formatted_datetime = f\"{date_time}{formatted_fractional_seconds}\"\n",
    "formatted_datetime"
   ]
  },
  {
   "cell_type": "code",
   "execution_count": null,
   "metadata": {},
   "outputs": [],
   "source": [
    "def random_date(start, end):\n",
    "    return start + timedelta(\n",
    "        seconds=random.randint(0, int((end - start).total_seconds())))"
   ]
  },
  {
   "cell_type": "code",
   "execution_count": null,
   "metadata": {},
   "outputs": [],
   "source": [
    "def random_datetime_with_nanoseconds(start, end):\n",
    "    random_dt = random_date(start, end)\n",
    "    # Generate a random nanoseconds value (0 to 999,999,999)\n",
    "\n",
    "    nanoseconds = random.randint(0, 999_999_999)\n",
    "    # Combine the datetime and the nanoseconds\n",
    "    formatted_dt = f\"{random_dt.isoformat()}.{str(nanoseconds).zfill(9)}+00:00\"\n",
    "    epoch_time = random_dt.timestamp()\n",
    "    # epoch_time_with_nanoseconds = epoch_time + (nanoseconds * 1e-9)\n",
    "    \n",
    "    # epoch timestamp full nanoseconds\n",
    "    seconds_part = str(int(epoch_time))\n",
    "    nanoseconds_part = format(nanoseconds, \"09d\")  # Format nanoseconds as a zero-padded string with 9 digits\n",
    "    formatted_epoch_time_with_nanoseconds = f\"{seconds_part}.{nanoseconds_part}\"\n",
    "\n",
    "    return formatted_dt, formatted_epoch_time_with_nanoseconds"
   ]
  },
  {
   "cell_type": "code",
   "execution_count": null,
   "metadata": {},
   "outputs": [],
   "source": [
    "nanoseconds = random.randint(0, 999_999_999)\n",
    "nanoseconds"
   ]
  },
  {
   "cell_type": "code",
   "execution_count": null,
   "metadata": {},
   "outputs": [],
   "source": [
    "start_date = datetime(2023, 7, 1)\n",
    "end_date = datetime(2023, 8, 1)"
   ]
  },
  {
   "cell_type": "code",
   "execution_count": null,
   "metadata": {},
   "outputs": [],
   "source": [
    "time_arr_http = []\n",
    "time_arr_datetime_http = []\n",
    "for i in range(0, 300):\n",
    "    formatted_dt, epoch_time_with_nanoseconds = random_datetime_with_nanoseconds(start_date, end_date)\n",
    "    time_arr_http.append(epoch_time_with_nanoseconds)\n",
    "    time_arr_datetime_http.append(formatted_dt)\n",
    "time_arr_http.sort()\n",
    "time_arr_datetime_http.sort()"
   ]
  },
  {
   "cell_type": "code",
   "execution_count": null,
   "metadata": {},
   "outputs": [],
   "source": [
    "time_arr_http"
   ]
  },
  {
   "cell_type": "code",
   "execution_count": null,
   "metadata": {},
   "outputs": [],
   "source": [
    "time_df_http = pd.DataFrame(time_arr_http, columns=['time'], dtype=str)"
   ]
  },
  {
   "cell_type": "code",
   "execution_count": null,
   "metadata": {},
   "outputs": [],
   "source": [
    "time_df_http = pd.DataFrame(columns=['sessionEndTime'])"
   ]
  },
  {
   "cell_type": "code",
   "execution_count": null,
   "metadata": {},
   "outputs": [],
   "source": [
    "time_df_http"
   ]
  }
 ],
 "metadata": {
  "kernelspec": {
   "display_name": "Python 3",
   "language": "python",
   "name": "python3"
  },
  "language_info": {
   "codemirror_mode": {
    "name": "ipython",
    "version": 3
   },
   "file_extension": ".py",
   "mimetype": "text/x-python",
   "name": "python",
   "nbconvert_exporter": "python",
   "pygments_lexer": "ipython3",
   "version": "3.11.5"
  },
  "orig_nbformat": 4
 },
 "nbformat": 4,
 "nbformat_minor": 2
}
