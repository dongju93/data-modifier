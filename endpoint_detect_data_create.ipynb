{
 "cells": [
  {
   "cell_type": "code",
   "execution_count": null,
   "metadata": {},
   "outputs": [],
   "source": [
    "import pandas as pd\n",
    "import os\n",
    "from env import mod_path, ntfy_nofi"
   ]
  },
  {
   "cell_type": "code",
   "execution_count": null,
   "metadata": {},
   "outputs": [],
   "source": [
    "df_rans = pd.DataFrame()\n",
    "# df_rotk = pd.DataFrame()\n",
    "# df_botk = pd.DataFrame()"
   ]
  },
  {
   "cell_type": "code",
   "execution_count": null,
   "metadata": {},
   "outputs": [],
   "source": [
    "column_names = [\n",
    "    \"time\",\n",
    "    \"source\",\n",
    "    \"attackName\",\n",
    "    \"attackKind\",\n",
    "    \"level\",\n",
    "    \"agentName\",\n",
    "    \"agentId\",\n",
    "    \"processGuid\",\n",
    "    \"processId\",\n",
    "    \"image\",\n",
    "    \"user\",\n",
    "    # nullable\n",
    "    \"triage\",\n",
    "    # 기타 필드들 통합 내용. 공통 필드이외의 내용을 이 필드에 통합해서 리턴함. 필드를 구분해서 보려면 상세 조회 필요\n",
    "    \"content\",\n",
    "]\n"
   ]
  },
  {
   "cell_type": "code",
   "execution_count": null,
   "metadata": {},
   "outputs": [],
   "source": [
    "data_rans = [\n",
    "    [\n",
    "        \"2023-07-01T00:50:45.187390204+00:00\",\n",
    "        \"collect\",\n",
    "        \"Alcatraz\",\n",
    "        \"Ransomware\",\n",
    "        4,\n",
    "        \"DESKTOP-0FS3LG3\",\n",
    "        \"f98ce9dc-4df6-445a-890d-c7a5368c230d\",\n",
    "        \"{145e89fa-6e99-64b7-261c-000000000800}\",\n",
    "        \"19924\",\n",
    "        \"C:\\\\Users\\\\vboxuser\\\\Downloads\\\\53292899fec.exe\",\n",
    "        \"DESKTOP-0FS3LG3\\spdlq\",\n",
    "        \"null\",\n",
    "        \"-\",\n",
    "    ]\n",
    "]"
   ]
  },
  {
   "cell_type": "code",
   "execution_count": null,
   "metadata": {},
   "outputs": [],
   "source": [
    "df_rans = pd.DataFrame(data=data_rans, columns=column_names)\n",
    "df_rans"
   ]
  },
  {
   "cell_type": "code",
   "execution_count": null,
   "metadata": {},
   "outputs": [],
   "source": []
  }
 ],
 "metadata": {
  "kernelspec": {
   "display_name": "Python 3",
   "language": "python",
   "name": "python3"
  },
  "language_info": {
   "codemirror_mode": {
    "name": "ipython",
    "version": 3
   },
   "file_extension": ".py",
   "mimetype": "text/x-python",
   "name": "python",
   "nbconvert_exporter": "python",
   "pygments_lexer": "ipython3",
   "version": "3.11.5"
  },
  "orig_nbformat": 4
 },
 "nbformat": 4,
 "nbformat_minor": 2
}
