{
 "cells": [
  {
   "cell_type": "code",
   "execution_count": 1,
   "metadata": {},
   "outputs": [],
   "source": [
    "import sys\n",
    "import pandas as pd\n",
    "import os\n",
    "from env import ori_path, mod_path, ntfy_nofi\n",
    "import json\n",
    "\n",
    "pd.options.mode.chained_assignment = None\n",
    "pd.set_option('display.max_columns',None)"
   ]
  },
  {
   "cell_type": "code",
   "execution_count": 19,
   "metadata": {},
   "outputs": [],
   "source": [
    "net_df = pd.read_csv(ori_path + \"event3_logs.csv\", sep=\"\\t\", header=0, dtype=str, nrows=1)\n",
    "image_df = pd.read_csv(ori_path + \"event7_logs.csv\", sep=\"\\t\", header=0, dtype=str, nrows=1)"
   ]
  },
  {
   "cell_type": "code",
   "execution_count": 21,
   "metadata": {},
   "outputs": [
    {
     "data": {
      "text/html": [
       "<div>\n",
       "<style scoped>\n",
       "    .dataframe tbody tr th:only-of-type {\n",
       "        vertical-align: middle;\n",
       "    }\n",
       "\n",
       "    .dataframe tbody tr th {\n",
       "        vertical-align: top;\n",
       "    }\n",
       "\n",
       "    .dataframe thead th {\n",
       "        text-align: right;\n",
       "    }\n",
       "</style>\n",
       "<table border=\"1\" class=\"dataframe\">\n",
       "  <thead>\n",
       "    <tr style=\"text-align: right;\">\n",
       "      <th></th>\n",
       "      <th>agent_name</th>\n",
       "      <th>agent_id</th>\n",
       "      <th>event_action</th>\n",
       "      <th>utc_time</th>\n",
       "      <th>process_guid</th>\n",
       "      <th>process_id</th>\n",
       "      <th>image</th>\n",
       "      <th>image_loaded</th>\n",
       "      <th>file_version</th>\n",
       "      <th>description</th>\n",
       "      <th>product</th>\n",
       "      <th>company</th>\n",
       "      <th>original_file_name</th>\n",
       "      <th>hashes</th>\n",
       "      <th>signed</th>\n",
       "      <th>signature</th>\n",
       "      <th>signature_status</th>\n",
       "      <th>user</th>\n",
       "    </tr>\n",
       "  </thead>\n",
       "  <tbody>\n",
       "    <tr>\n",
       "      <th>0</th>\n",
       "      <td>DESKTOP-0FS3LG3</td>\n",
       "      <td>f98ce9dc-4df6-445a-890d-c7a5368c230d</td>\n",
       "      <td>Image loaded</td>\n",
       "      <td>2023-07-19 05:03:21.839</td>\n",
       "      <td>{145e89fa-6e99-64b7-261c-000000000800}</td>\n",
       "      <td>19924</td>\n",
       "      <td>C:\\Program Files\\Elastic\\winlogbeat-8.8.1-wind...</td>\n",
       "      <td>C:\\Windows\\System32\\ntdll.dll</td>\n",
       "      <td>10.0.22621.1928 (WinBuild.160101.0800)</td>\n",
       "      <td>NT Layer DLL</td>\n",
       "      <td>Microsoft® Windows® Operating System</td>\n",
       "      <td>Microsoft Corporation</td>\n",
       "      <td>ntdll.dll</td>\n",
       "      <td>SHA1=5D7DC6DB4D577CCA20916B678337E4961A133622,...</td>\n",
       "      <td>true</td>\n",
       "      <td>Microsoft Windows</td>\n",
       "      <td>Valid</td>\n",
       "      <td>NT AUTHORITY\\SYSTEM</td>\n",
       "    </tr>\n",
       "  </tbody>\n",
       "</table>\n",
       "</div>"
      ],
      "text/plain": [
       "        agent_name                              agent_id  event_action  \\\n",
       "0  DESKTOP-0FS3LG3  f98ce9dc-4df6-445a-890d-c7a5368c230d  Image loaded   \n",
       "\n",
       "                  utc_time                            process_guid process_id  \\\n",
       "0  2023-07-19 05:03:21.839  {145e89fa-6e99-64b7-261c-000000000800}      19924   \n",
       "\n",
       "                                               image  \\\n",
       "0  C:\\Program Files\\Elastic\\winlogbeat-8.8.1-wind...   \n",
       "\n",
       "                    image_loaded                            file_version  \\\n",
       "0  C:\\Windows\\System32\\ntdll.dll  10.0.22621.1928 (WinBuild.160101.0800)   \n",
       "\n",
       "    description                               product                company  \\\n",
       "0  NT Layer DLL  Microsoft® Windows® Operating System  Microsoft Corporation   \n",
       "\n",
       "  original_file_name                                             hashes  \\\n",
       "0          ntdll.dll  SHA1=5D7DC6DB4D577CCA20916B678337E4961A133622,...   \n",
       "\n",
       "  signed          signature signature_status                 user  \n",
       "0   true  Microsoft Windows            Valid  NT AUTHORITY\\SYSTEM  "
      ]
     },
     "execution_count": 21,
     "metadata": {},
     "output_type": "execute_result"
    }
   ],
   "source": [
    "image_df"
   ]
  },
  {
   "cell_type": "code",
   "execution_count": 9,
   "metadata": {},
   "outputs": [],
   "source": [
    "net_df.agent_id = \"e7e2386a-5485-4da9-b388-b3e50ee7cbb0\"\n",
    "net_df.utc_time\t= \"2023-09-09 15:58:31.720\"\n",
    "net_df.source_ip = \"11.136.50.86\"\n",
    "net_df.source_port = \"34075\"\n",
    "net_df.destination_ip = \"142.250.76.131\"\n",
    "net_df.destination_port = \"443\"\n"
   ]
  },
  {
   "cell_type": "code",
   "execution_count": 25,
   "metadata": {},
   "outputs": [],
   "source": [
    "image_df.agent_id = \"e7e2386a-5485-4da9-b388-b3e50ee7cbb0\"\n",
    "image_df.utc_time = \"2023-09-09 15:58:31.719\""
   ]
  },
  {
   "cell_type": "code",
   "execution_count": 26,
   "metadata": {},
   "outputs": [
    {
     "data": {
      "text/html": [
       "<div>\n",
       "<style scoped>\n",
       "    .dataframe tbody tr th:only-of-type {\n",
       "        vertical-align: middle;\n",
       "    }\n",
       "\n",
       "    .dataframe tbody tr th {\n",
       "        vertical-align: top;\n",
       "    }\n",
       "\n",
       "    .dataframe thead th {\n",
       "        text-align: right;\n",
       "    }\n",
       "</style>\n",
       "<table border=\"1\" class=\"dataframe\">\n",
       "  <thead>\n",
       "    <tr style=\"text-align: right;\">\n",
       "      <th></th>\n",
       "      <th>agent_name</th>\n",
       "      <th>agent_id</th>\n",
       "      <th>event_action</th>\n",
       "      <th>utc_time</th>\n",
       "      <th>process_guid</th>\n",
       "      <th>process_id</th>\n",
       "      <th>image</th>\n",
       "      <th>image_loaded</th>\n",
       "      <th>file_version</th>\n",
       "      <th>description</th>\n",
       "      <th>product</th>\n",
       "      <th>company</th>\n",
       "      <th>original_file_name</th>\n",
       "      <th>hashes</th>\n",
       "      <th>signed</th>\n",
       "      <th>signature</th>\n",
       "      <th>signature_status</th>\n",
       "      <th>user</th>\n",
       "    </tr>\n",
       "  </thead>\n",
       "  <tbody>\n",
       "    <tr>\n",
       "      <th>0</th>\n",
       "      <td>DESKTOP-0FS3LG3</td>\n",
       "      <td>e7e2386a-5485-4da9-b388-b3e50ee7cbb0</td>\n",
       "      <td>Image loaded</td>\n",
       "      <td>2023-09-09 15:58:31.719</td>\n",
       "      <td>{145e89fa-6e99-64b7-261c-000000000800}</td>\n",
       "      <td>19924</td>\n",
       "      <td>C:\\Program Files\\Elastic\\winlogbeat-8.8.1-wind...</td>\n",
       "      <td>C:\\Windows\\System32\\ntdll.dll</td>\n",
       "      <td>10.0.22621.1928 (WinBuild.160101.0800)</td>\n",
       "      <td>NT Layer DLL</td>\n",
       "      <td>Microsoft® Windows® Operating System</td>\n",
       "      <td>Microsoft Corporation</td>\n",
       "      <td>ntdll.dll</td>\n",
       "      <td>SHA1=5D7DC6DB4D577CCA20916B678337E4961A133622,...</td>\n",
       "      <td>true</td>\n",
       "      <td>Microsoft Windows</td>\n",
       "      <td>Valid</td>\n",
       "      <td>NT AUTHORITY\\SYSTEM</td>\n",
       "    </tr>\n",
       "  </tbody>\n",
       "</table>\n",
       "</div>"
      ],
      "text/plain": [
       "        agent_name                              agent_id  event_action  \\\n",
       "0  DESKTOP-0FS3LG3  e7e2386a-5485-4da9-b388-b3e50ee7cbb0  Image loaded   \n",
       "\n",
       "                  utc_time                            process_guid process_id  \\\n",
       "0  2023-09-09 15:58:31.719  {145e89fa-6e99-64b7-261c-000000000800}      19924   \n",
       "\n",
       "                                               image  \\\n",
       "0  C:\\Program Files\\Elastic\\winlogbeat-8.8.1-wind...   \n",
       "\n",
       "                    image_loaded                            file_version  \\\n",
       "0  C:\\Windows\\System32\\ntdll.dll  10.0.22621.1928 (WinBuild.160101.0800)   \n",
       "\n",
       "    description                               product                company  \\\n",
       "0  NT Layer DLL  Microsoft® Windows® Operating System  Microsoft Corporation   \n",
       "\n",
       "  original_file_name                                             hashes  \\\n",
       "0          ntdll.dll  SHA1=5D7DC6DB4D577CCA20916B678337E4961A133622,...   \n",
       "\n",
       "  signed          signature signature_status                 user  \n",
       "0   true  Microsoft Windows            Valid  NT AUTHORITY\\SYSTEM  "
      ]
     },
     "execution_count": 26,
     "metadata": {},
     "output_type": "execute_result"
    }
   ],
   "source": [
    "net_df.to_csv(mod_path + \"networkConnectEvents2.csv\", index=False, sep=\"\\t\")\n",
    "image_df.to_csv(mod_path + \"imageLoadEvents2.csv\", index=False, sep=\"\\t\")\n"
   ]
  },
  {
   "cell_type": "code",
   "execution_count": null,
   "metadata": {},
   "outputs": [],
   "source": []
  }
 ],
 "metadata": {
  "kernelspec": {
   "display_name": "Python 3",
   "language": "python",
   "name": "python3"
  },
  "language_info": {
   "codemirror_mode": {
    "name": "ipython",
    "version": 3
   },
   "file_extension": ".py",
   "mimetype": "text/x-python",
   "name": "python",
   "nbconvert_exporter": "python",
   "pygments_lexer": "ipython3",
   "version": "3.12.0"
  }
 },
 "nbformat": 4,
 "nbformat_minor": 2
}
