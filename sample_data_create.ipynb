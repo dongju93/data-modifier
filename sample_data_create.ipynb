{
 "cells": [
  {
   "cell_type": "code",
   "execution_count": 2,
   "metadata": {},
   "outputs": [],
   "source": [
    "import pandas as pd\n",
    "import os\n",
    "from env import sample_file_path, ntfy_nofi"
   ]
  },
  {
   "cell_type": "code",
   "execution_count": 3,
   "metadata": {},
   "outputs": [],
   "source": [
    "df_rans = pd.DataFrame()\n",
    "df_rotk = pd.DataFrame()\n",
    "df_botk = pd.DataFrame()"
   ]
  },
  {
   "cell_type": "code",
   "execution_count": 4,
   "metadata": {},
   "outputs": [],
   "source": [
    "column_names = [\n",
    "    \"agent_name\",\n",
    "    \"agnet_id\",\n",
    "    \"time\",\n",
    "    \"process_guid\",\n",
    "    \"process_id\",\n",
    "    \"image\",\n",
    "    \"user\",\n",
    "    \"db_name\",\n",
    "    \"rule_id\",\n",
    "    \"matched_to\",\n",
    "    \"cluster_id\",\n",
    "    \"attack_kind\",\n",
    "    \"confidence\",\n",
    "    \"triage_scores\",\n",
    "    \"padding_field_1\",\n",
    "    \"padding_field_2\",\n",
    "    \"padding_field_3\",\n",
    "    \"padding_field_4\",\n",
    "    \"padding_field_5\",\n",
    "]\n",
    "\n",
    "# df = df.reindex(columns = column_names)\n",
    "# ransomware\n",
    "data_rans = [\n",
    "    [\n",
    "        \"win64\",\n",
    "        \"e7e2386a-5485-4da9-b388-b3e50ee7cbb0\",\n",
    "        \"2023-08-10 04:43:47.071\",\n",
    "        \"{bac98147-6b03-64d4-8200-000000000700}\",\n",
    "        \"2972\",\n",
    "        \"C:\\\\Users\\\\vboxuser\\\\Desktop\\\\mal_bazaar\\\\ransomware\\\\918504ede26bb9a3aa315319da4d3549d64531afba593bfad71a653292899fec.exe\",\n",
    "        \"WIN64\\\\vboxuser\",\n",
    "        \"etas_ti\",\n",
    "        \"10001\",\n",
    "        \"918504ede26bb9a3aa315319da4d3549d64531afba593bfad71a653292899fec\",\n",
    "        \"20001\",\n",
    "        \"Alcatraz\",\n",
    "        \"100\",\n",
    "        \"\",\n",
    "        \"-\",\n",
    "        \"-\",\n",
    "        \"-\",\n",
    "        \"-\",\n",
    "        \"-\",\n",
    "    ],\n",
    "    [\n",
    "        \"win64\",\n",
    "        \"e7e2386a-5485-4da9-b388-b3e50ee7cbb0\",\n",
    "        \"2023-08-11 06:01:24.289\",\n",
    "        \"{bac98147-ceb1-64d5-2d01-000000000900}\",\n",
    "        \"2900\",\n",
    "        \"E:\\\\mal_bazaar\\\\ransomware\\\\Jigsaw\\\\da069436a071e75601f5bc629bc2d121d9c3d24cce7b5a7f0cb8a40e1a8dfe99.exe\",\n",
    "        \"WIN64\\\\vboxuser\",\n",
    "        \"etas_ti\",\n",
    "        \"10002\",\n",
    "        \".fun\",\n",
    "        \"20002\",\n",
    "        \"Jigsaw\",\n",
    "        \"100\",\n",
    "        \"\",\n",
    "        \"-\",\n",
    "        \"-\",\n",
    "        \"-\",\n",
    "        \"-\",\n",
    "        \"-\",\n",
    "    ],\n",
    "    [\n",
    "        \"win64\",\n",
    "        \"e7e2386a-5485-4da9-b388-b3e50ee7cbb0\",\n",
    "        \"2023-08-11 05:26:50.303\",\n",
    "        \"{bac98147-c644-64d5-df00-000000000700}\",\n",
    "        \"4352\",\n",
    "        \"E:\\\\mal_bazaar\\\\ransomware\\\\Ryuk\\\\bf575ce1c9425bc44f5cabbc34366e0e92ef369db0a8b69942c5bdb1cca9b800.exe\",\n",
    "        \"WIN64\\\\vboxuser\",\n",
    "        \"etas_ti\",\n",
    "        \"10003\",\n",
    "        \"Ryuk\",\n",
    "        \"20003\",\n",
    "        \"Ryuk\",\n",
    "        \"100\",\n",
    "        \"\",\n",
    "        \"-\",\n",
    "        \"-\",\n",
    "        \"-\",\n",
    "        \"-\",\n",
    "        \"-\",\n",
    "    ],\n",
    "]\n",
    "# rootkit\n",
    "data_rotk = [\n",
    "    [\n",
    "        \"win64\",\n",
    "        \"e7e2386a-5485-4da9-b388-b3e50ee7cbb0\",\n",
    "        \"2023-08-11 05:15:56.754\",\n",
    "        \"{bac98147-c40c-64d5-1001-000000000700}\",\n",
    "        \"5260\",\n",
    "        \"E:\\\\mal_bazaar\\\\rootkit\\\\r77Rootkit 1.4.3\\\\TestConsole.exe\",\n",
    "        \"WIN64\\\\vboxuser\",\n",
    "        \"etas_ti\",\n",
    "        \"10004\",\n",
    "        \"DEE7991F7EE388A8BD1D2860809E30937D4FE56BDE94C4D6E8E24A79FED6AE92\",\n",
    "        \"20004\",\n",
    "        \"R77\",\n",
    "        \"100\",\n",
    "        \"\",\n",
    "        \"-\",\n",
    "        \"-\",\n",
    "        \"-\",\n",
    "        \"-\",\n",
    "        \"-\",\n",
    "    ]\n",
    "]\n",
    "# bootkit\n",
    "data_botk = [\n",
    "    [\n",
    "        \"win64\",\n",
    "        \"e7e2386a-5485-4da9-b388-b3e50ee7cbb0\",\n",
    "        \"2023-08-21 06:45:52.964\",\n",
    "        \"{bac98147-0820-64e3-a005-000000000900}\",\n",
    "        \"5812\",\n",
    "        \"E:\\\\bootkit\\\\f428b4d0673ae67472fbe212086e70eeb5b6876e80a74b59ff8ba3e6def5e9b1.exe\",\n",
    "        \"WIN64\\\\vboxuser\",\n",
    "        \"etas_ti\",\n",
    "        \"10005\",\n",
    "        \"F428B4D0673AE67472FBE212086E70EEB5B6876E80A74B59FF8BA3E6DEF5E9B1\",\n",
    "        \"20005\",\n",
    "        \"ESPecter\",\n",
    "        \"100\",\n",
    "        \"\",\n",
    "        \"-\",\n",
    "        \"-\",\n",
    "        \"-\",\n",
    "        \"-\",\n",
    "        \"-\",\n",
    "    ]\n",
    "]\n",
    "\n",
    "\n",
    "df_rans = pd.DataFrame(data=data_rans, columns=column_names)\n",
    "df_rotk = pd.DataFrame(data=data_rotk, columns=column_names)\n",
    "df_botk = pd.DataFrame(data=data_botk, columns=column_names)\n",
    "# df.set_index('time', inplace=True)"
   ]
  },
  {
   "cell_type": "code",
   "execution_count": 5,
   "metadata": {},
   "outputs": [],
   "source": [
    "df_rans.to_csv(sample_file_path + \"ransomware_sample.csv\", index=False, sep=\"\\t\")\n",
    "df_rotk.to_csv(sample_file_path + \"rootkit_sample.csv\", index=False, sep=\"\\t\")\n",
    "df_botk.to_csv(sample_file_path + \"bootkit_sample.csv\", index=False, sep=\"\\t\")"
   ]
  },
  {
   "cell_type": "code",
   "execution_count": 6,
   "metadata": {},
   "outputs": [
    {
     "name": "stdout",
     "output_type": "stream",
     "text": [
      "{\"id\":\"acKYBrs9LjRk\",\"time\":1694954146,\"expires\":1694997346,\"event\":\"message\",\"topic\":\"joe\",\"message\":\"job done\"}\n"
     ]
    },
    {
     "name": "stderr",
     "output_type": "stream",
     "text": [
      "  % Total    % Received % Xferd  Average Speed   Time    Time     Time  Current\n",
      "                                 Dload  Upload   Total   Spent    Left  Speed\n",
      "100   122  100   114  100     8    577     40 --:--:-- --:--:-- --:--:--   619\n"
     ]
    },
    {
     "data": {
      "text/plain": [
       "0"
      ]
     },
     "execution_count": 6,
     "metadata": {},
     "output_type": "execute_result"
    }
   ],
   "source": [
    "os.system(ntfy_nofi)"
   ]
  }
 ],
 "metadata": {
  "kernelspec": {
   "display_name": "Python 3",
   "language": "python",
   "name": "python3"
  },
  "language_info": {
   "codemirror_mode": {
    "name": "ipython",
    "version": 3
   },
   "file_extension": ".py",
   "mimetype": "text/x-python",
   "name": "python",
   "nbconvert_exporter": "python",
   "pygments_lexer": "ipython3",
   "version": "3.11.5"
  },
  "orig_nbformat": 4
 },
 "nbformat": 4,
 "nbformat_minor": 2
}
